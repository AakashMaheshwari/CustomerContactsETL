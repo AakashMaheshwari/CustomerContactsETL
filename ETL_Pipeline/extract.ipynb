{
 "cells": [
  {
   "cell_type": "code",
   "execution_count": null,
   "metadata": {},
   "outputs": [],
   "source": [
    "import json\n",
    "import os\n",
    "\n",
    "def extract_data(Customer_Contacts_RawData):\n",
    "    if not os.path.exists(Customer_Contacts_RawData):\n",
    "       raise FileNotFoundError(f\"The file {Customer_Contacts_RawData} does not exist.\")\n",
    "    try:\n",
    "        with open(Customer_Contacts_RawData, 'r') as file:\n",
    "            data = json.load(file)\n",
    "        return data\n",
    "    except json.JSONDecodeError as e:\n",
    "        raise ValueError(f\"Error decoding JSON: {e}\") \n",
    "                "
   ]
  },
  {
   "cell_type": "code",
   "execution_count": null,
   "metadata": {},
   "outputs": [],
   "source": []
  }
 ],
 "metadata": {
  "kernelspec": {
   "display_name": "Python 3",
   "language": "python",
   "name": "python3"
  },
  "language_info": {
   "codemirror_mode": {
    "name": "ipython",
    "version": 3
   },
   "file_extension": ".py",
   "mimetype": "text/x-python",
   "name": "python",
   "nbconvert_exporter": "python",
   "pygments_lexer": "ipython3",
   "version": "undefined.undefined.undefined"
  }
 },
 "nbformat": 4,
 "nbformat_minor": 2
}
