{
 "cells": [
  {
   "cell_type": "code",
   "execution_count": 1,
   "metadata": {},
   "outputs": [],
   "source": [
    "import re"
   ]
  },
  {
   "cell_type": "code",
   "execution_count": 2,
   "metadata": {},
   "outputs": [],
   "source": [
    "prefixes = ['Mr.', 'Mrs.', 'Ms.', 'Miss', 'Dr.', 'Prof.', 'Sir']\n",
    "suffixes = ['Jr.', 'Sr.', 'II', 'III', 'IV', 'MD', 'PhD']"
   ]
  },
  {
   "cell_type": "code",
   "execution_count": 3,
   "metadata": {},
   "outputs": [],
   "source": [
    "#Function for Cleaning Names - Logic\n",
    "def clean_name(name):\n",
    "    # Remove any commas that might be in the name\n",
    "    name = name.replace(',', '')\n",
    "\n",
    "    # Remove prefixes (if any)\n",
    "    for prefix in prefixes:\n",
    "        if name.startswith(prefix):\n",
    "            name = name[len(prefix):].strip()\n",
    "\n",
    "    # Remove suffixes (if any)\n",
    "    for suffix in suffixes:\n",
    "        if name.endswith(suffix):\n",
    "            name = name[:-len(suffix)].strip()\n",
    "\n",
    "    # Split name by spaces to extract first and last name\n",
    "    name_parts = name.split()\n",
    "\n",
    "    # If there are more than 2 parts, assume everything after the first is the last name\n",
    "    if len(name_parts) >= 2:\n",
    "        first_name = name_parts[0]\n",
    "        last_name = ' '.join(name_parts[1:])\n",
    "    else:\n",
    "        # Handle case where there's only one name part (e.g., \"John\")\n",
    "        first_name = name_parts[0]\n",
    "        last_name = ''\n",
    "    \n",
    "    return first_name, last_name"
   ]
  },
  {
   "cell_type": "code",
   "execution_count": 4,
   "metadata": {},
   "outputs": [],
   "source": [
    "#Function for Cleaning Phone Number\n",
    "def clean_phone_number_with_extension(phone):\n",
    "    # Step 1: Check and extract extension if it exists (based on 'x' or 'X')\n",
    "    extension = \"NA\"  # Default extension to 'NA'\n",
    "    if 'x' in phone or 'X' in phone:\n",
    "        # Extract extension and the phone number before the extension\n",
    "        parts = phone.split('x')\n",
    "        phone = parts[0].strip()\n",
    "        extension = parts[1].strip()  # Get the part after 'x' as the extension\n",
    "    \n",
    "    # Step 2: Remove non-numeric characters except '+'\n",
    "    phone = phone.replace('(', '').replace(')', '').replace('-', '').replace('.', '').replace(' ', '')\n",
    "    \n",
    "    # Step 3: Extract country code and phone number\n",
    "    if phone.startswith('+'):\n",
    "        # Case 1: Country code starts with '+'\n",
    "        country_code = phone[1:2] if phone[1].isdigit() else '1'\n",
    "        phone_number = phone[2:]  # Remove country code from phone number\n",
    "    elif phone.startswith('1'):\n",
    "        # Case 2: Country code starts with '1' (default to US/Canada)\n",
    "        country_code = '1'\n",
    "        phone_number = phone[1:]  # Remove '1' from phone number\n",
    "    else:\n",
    "        # Case 3: No country code, assume default '1'\n",
    "        country_code = '1'\n",
    "        phone_number = phone\n",
    "\n",
    "    # Step 4: Ensure the phone number has exactly 10 digits\n",
    "    if len(phone_number) > 10:\n",
    "        phone_number = phone_number[-10:]  # Trim to last 10 digits (ignores any extra digits)\n",
    "\n",
    "    # Step 5: Format the phone number to (xxx)-xxx-xxxx\n",
    "    phone_number = f\"({phone_number[:3]})-{phone_number[3:6]}-{phone_number[6:]}\"\n",
    "    \n",
    "    return country_code, phone_number, extension"
   ]
  }
 ],
 "metadata": {
  "kernelspec": {
   "display_name": "Python 3",
   "language": "python",
   "name": "python3"
  },
  "language_info": {
   "codemirror_mode": {
    "name": "ipython",
    "version": 3
   },
   "file_extension": ".py",
   "mimetype": "text/x-python",
   "name": "python",
   "nbconvert_exporter": "python",
   "pygments_lexer": "ipython3",
   "version": "3.13.0"
  }
 },
 "nbformat": 4,
 "nbformat_minor": 2
}
